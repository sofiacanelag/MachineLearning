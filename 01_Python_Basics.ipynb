{
  "cells": [
    {
      "cell_type": "markdown",
      "metadata": {
        "id": "f3TzJCs1yXC0"
      },
      "source": [
        "<img src=\"logo-spegc.svg\" width=30%>\n",
        "\n",
        "# Python básico\n",
        "\n",
        "https://docs.python.org/3/tutorial/index.html\n",
        "\n",
        "http://www.utic.edu.py/citil/images/Manuales/Python_para_todos.pdf"
      ]
    },
    {
      "cell_type": "markdown",
      "metadata": {
        "id": "vJTib5mSyXC3"
      },
      "source": [
        "## Tipos de datos"
      ]
    },
    {
      "cell_type": "code",
      "execution_count": null,
      "metadata": {
        "id": "gqpUJqNXyXC4",
        "outputId": "d6dd2552-6306-4f7c-f2f5-34d83a93c696"
      },
      "outputs": [
        {
          "name": "stdout",
          "output_type": "stream",
          "text": [
            "1\n",
            "1.0\n",
            "(1+0j)\n",
            "1\n",
            "1\n",
            "Hola\n",
            "\n",
            "Hola\\n\n"
          ]
        }
      ],
      "source": [
        "a = 1  # Enteros\n",
        "b = 1.0  # Flotantes\n",
        "c = 1.0+0.0j  # Complejos\n",
        "d = \"1\"  # String Unicode\n",
        "e = r\"1\"  # String raw\n",
        "print(a)\n",
        "print(b)\n",
        "print(c)\n",
        "print(d)\n",
        "print(e)\n",
        "u = u\"Hola\\n\"\n",
        "r = r\"Hola\\n\"\n",
        "print(u)\n",
        "print(r)"
      ]
    },
    {
      "cell_type": "code",
      "execution_count": null,
      "metadata": {
        "colab": {
          "base_uri": "https://localhost:8080/"
        },
        "id": "-GztZv5oyXC6",
        "outputId": "1042a08d-c79d-4160-a982-abd488f8b160"
      },
      "outputs": [
        {
          "output_type": "stream",
          "name": "stdout",
          "text": [
            "Hola Pepe\n",
            "jajajajaja\n"
          ]
        }
      ],
      "source": [
        "s1 = \"Hola\"\n",
        "s2 = \"Pepe\"\n",
        "print(s1 + \" \" + s2)\n",
        "\n",
        "s=\"ja\"\n",
        "print(s*5)\n",
        "#print(s1-s2)"
      ]
    },
    {
      "cell_type": "markdown",
      "metadata": {
        "id": "2fPymDJ_yXC6"
      },
      "source": [
        "## Colecciones"
      ]
    },
    {
      "cell_type": "markdown",
      "metadata": {
        "id": "yNibkkF6yXC7"
      },
      "source": [
        "### Listas\n",
        "\n",
        "https://docs.python.org/3/tutorial/datastructures.html#looping-techniques"
      ]
    },
    {
      "cell_type": "code",
      "execution_count": null,
      "metadata": {
        "colab": {
          "base_uri": "https://localhost:8080/"
        },
        "id": "Gl_9hvj2yXC7",
        "outputId": "3a7dc1cd-46b7-4091-8f21-70487636f734"
      },
      "outputs": [
        {
          "output_type": "stream",
          "name": "stdout",
          "text": [
            "4\n",
            "[1, 2, 3, 4, 5, 6, 7, 8, 9, 10]\n",
            "[1, 2, 3, 4, 5, 6, 7, 8, 9, 10, 11, 12, 13]\n",
            "[4, 1, 2, 3, 4, 5, 6, 7, 8, 9, 10, 11, 12, 13]\n",
            "0\n",
            "[1, 2, 3, 4, 4, 5, 6, 7, 8, 9, 10, 11, 12, 13]\n"
          ]
        }
      ],
      "source": [
        "l=[1, 2, 3, 4, 5, 6, 7, 8, 9]\n",
        "print(l[3])\n",
        "l.append(10)\n",
        "print(l)\n",
        "l.extend([11, 12, 13])\n",
        "print(l)\n",
        "l.insert(0, 4)\n",
        "print(l)\n",
        "print(l.index(4))\n",
        "l.sort()\n",
        "print(l)"
      ]
    },
    {
      "cell_type": "markdown",
      "metadata": {
        "id": "pIuM-GFhyXC8"
      },
      "source": [
        "- **list.append(x)** Añade un item al final de la lista.\n",
        "- **list.extend(iterable)** Extiende la lista añadiendo items desde un iterable.\n",
        "- **list.insert(i, x)** Inserta un item en una posición dada.\n",
        "- **list.remove(x)** Elimina el primer item de la lista con el valor \"x\".\n",
        "- **list.pop([i])** Extrae y devuelve el item en la posición dada.\n",
        "- **list.clear()** Elimina todos los items de la lista.\n",
        "- **list.index(x[, start[, end]])** Devuelve el índice de la primera ocurrencia del valor \"x\".\n",
        "- **list.count(x)** Devuelve el número de veces que \"x\" aparece en la lista.\n",
        "- **list.sort(key=None, reverse=False)** Ordena los elementos de la lista.\n",
        "- **list.reverse()** Invierte la lista.\n",
        "- **list.copy()** Devuelve una copia de la lista."
      ]
    },
    {
      "cell_type": "code",
      "execution_count": null,
      "metadata": {
        "colab": {
          "base_uri": "https://localhost:8080/"
        },
        "id": "Opxl6S2xyXC9",
        "outputId": "91da0380-7214-4335-e4cd-8f2c3aeab684"
      },
      "outputs": [
        {
          "output_type": "stream",
          "name": "stdout",
          "text": [
            "[3, 4, 5]\n",
            "[1, 2, 3, 4, 5]\n",
            "[4, 5, 6, 7, 8, 9]\n",
            "[4, 5, 6, 7, 8]\n",
            "[1, 3, 5, 7, 9]\n",
            "[2, 4, 6, 8]\n",
            "[9, 8, 7, 6, 5, 4, 3, 2, 1]\n"
          ]
        }
      ],
      "source": [
        "l=[1, 2, 3, 4, 5, 6, 7, 8, 9]\n",
        "\n",
        "print(l[2:5])\n",
        "print(l[:5])\n",
        "print(l[3:])\n",
        "print(l[3:-1])\n",
        "print(l[::2])\n",
        "print(l[1::2])\n",
        "print(l[-1::-1])"
      ]
    },
    {
      "cell_type": "markdown",
      "metadata": {
        "id": "uOZ3wf6EyXC9"
      },
      "source": [
        "### Del\n",
        "\n",
        "Hay una manera de eliminar un elemento de una lista dado su índice en lugar de su valor: la instrucción **del**. Esto difiere del método **pop()**, que devuelve un valor. La declaración **del** también se puede usar para eliminar sectores de una lista o borrar toda la lista."
      ]
    },
    {
      "cell_type": "code",
      "execution_count": null,
      "metadata": {
        "colab": {
          "base_uri": "https://localhost:8080/"
        },
        "id": "Wz4aD1-FyXC-",
        "outputId": "1e3808ab-cd7d-40d6-848d-6c8ce8e02228"
      },
      "outputs": [
        {
          "output_type": "stream",
          "name": "stdout",
          "text": [
            "[2, 3, 4, 5, 6, 7, 8]\n",
            "[2, 3, 6, 7, 8]\n"
          ]
        }
      ],
      "source": [
        "l = [1, 2, 3, 4, 5, 6, 7, 8]\n",
        "del l[0]\n",
        "print(l)\n",
        "del l[2:4]\n",
        "print(l)\n",
        "del l"
      ]
    },
    {
      "cell_type": "markdown",
      "metadata": {
        "id": "TKzgwyJPyXC-"
      },
      "source": [
        "### Usando listas como pilas"
      ]
    },
    {
      "cell_type": "code",
      "execution_count": null,
      "metadata": {
        "id": "MCR9TqaqyXC_",
        "outputId": "96124407-4a91-4a98-dad1-729f0ed6e6b1"
      },
      "outputs": [
        {
          "name": "stdout",
          "output_type": "stream",
          "text": [
            "[2, 3, 4, 5]\n",
            "5 [2, 3, 4]\n"
          ]
        }
      ],
      "source": [
        "stack = [2, 3, 4]\n",
        "stack.append(5)\n",
        "print(stack)\n",
        "t = stack.pop()\n",
        "print(t, stack)"
      ]
    },
    {
      "cell_type": "markdown",
      "metadata": {
        "id": "LtxCSo5LyXC_"
      },
      "source": [
        "### Tuplas"
      ]
    },
    {
      "cell_type": "code",
      "execution_count": null,
      "metadata": {
        "collapsed": true,
        "id": "ePZWI_UpyXC_"
      },
      "outputs": [],
      "source": [
        "t1 = (1, 2, 3, 4, 5)\n",
        "t2 = (\"Hola\", 38, 'a', 233.998)\n",
        "t3 = 10, 11, 12"
      ]
    },
    {
      "cell_type": "markdown",
      "metadata": {
        "id": "2WYKEJjUyXC_"
      },
      "source": [
        "### Diccionarios"
      ]
    },
    {
      "cell_type": "code",
      "execution_count": null,
      "metadata": {
        "id": "zDrCADXuyXDA",
        "outputId": "7d43e937-14ad-44e4-ed33-1487e0a696fc"
      },
      "outputs": [
        {
          "name": "stdout",
          "output_type": "stream",
          "text": [
            "22\n"
          ]
        }
      ],
      "source": [
        "TCPIP = {\"Telnet\": 23, \"SSH\": 22, \"FTP\": 21, \"HTTP\": 80}\n",
        "\n",
        "print(TCPIP[\"SSH\"])"
      ]
    },
    {
      "cell_type": "code",
      "execution_count": null,
      "metadata": {
        "colab": {
          "base_uri": "https://localhost:8080/"
        },
        "id": "itMBMe3fyXDA",
        "outputId": "d0cae465-1b00-4ee9-e6a7-cac14565edbe"
      },
      "outputs": [
        {
          "output_type": "stream",
          "name": "stdout",
          "text": [
            "dict_keys(['Telnet', 'SSH', 'FTP', 'HTTP'])\n",
            "dict_values([23, 22, 21, 80])\n",
            "Telnet 23\n",
            "SSH 22\n",
            "FTP 21\n",
            "HTTP 80\n",
            "('Telnet', 23)\n",
            "('SSH', 22)\n",
            "('FTP', 21)\n",
            "('HTTP', 80)\n"
          ]
        }
      ],
      "source": [
        "TCPIP = {\"Telnet\": 23, \"SSH\": 22, \"FTP\": 21, \"HTTP\": 80}\n",
        "\n",
        "print(TCPIP.keys())\n",
        "print(TCPIP.values())\n",
        "\n",
        "for k in TCPIP.keys():\n",
        "    print(k, TCPIP[k])\n",
        "    \n",
        "for i in TCPIP.items():\n",
        "    print(i)"
      ]
    },
    {
      "cell_type": "markdown",
      "metadata": {
        "id": "R855y3l0yXDA"
      },
      "source": [
        "## Estructuras de control de flujo"
      ]
    },
    {
      "cell_type": "markdown",
      "metadata": {
        "id": "gGBl3E1byXDB"
      },
      "source": [
        "### if"
      ]
    },
    {
      "cell_type": "code",
      "execution_count": null,
      "metadata": {
        "colab": {
          "base_uri": "https://localhost:8080/"
        },
        "id": "aV3YIa2yyXDB",
        "outputId": "0d7a0b44-8dc7-48b2-f7e3-d7fc6ee57bbb"
      },
      "outputs": [
        {
          "output_type": "stream",
          "name": "stdout",
          "text": [
            "Mayor o igual\n",
            "No more!\n"
          ]
        }
      ],
      "source": [
        "a=5\n",
        "if a >= 5:\n",
        "    print(\"Mayor o igual\")\n",
        "    print(\"No more!\")"
      ]
    },
    {
      "cell_type": "code",
      "execution_count": null,
      "metadata": {
        "colab": {
          "base_uri": "https://localhost:8080/"
        },
        "id": "Iv2iiiX3yXDB",
        "outputId": "dadfe1a5-e912-4fa1-c6b7-e30fea30e045"
      },
      "outputs": [
        {
          "output_type": "stream",
          "name": "stdout",
          "text": [
            "Menor\n"
          ]
        }
      ],
      "source": [
        "a=3\n",
        "if a >= 5:\n",
        "    print(\"Mayor o igual\")\n",
        "else:\n",
        "    print(\"Menor\")"
      ]
    },
    {
      "cell_type": "code",
      "execution_count": null,
      "metadata": {
        "colab": {
          "base_uri": "https://localhost:8080/"
        },
        "id": "NxuMqWUKyXDB",
        "outputId": "ec536db1-c8a7-4acb-e641-e5b49428ef35"
      },
      "outputs": [
        {
          "output_type": "stream",
          "name": "stdout",
          "text": [
            "Igual\n"
          ]
        }
      ],
      "source": [
        "a=5\n",
        "if a > 5:\n",
        "    print(\"Mayor\")\n",
        "elif a < 5:\n",
        "    print(\"Menor\")\n",
        "else:\n",
        "    print(\"Igual\")"
      ]
    },
    {
      "cell_type": "code",
      "execution_count": null,
      "metadata": {
        "colab": {
          "base_uri": "https://localhost:8080/"
        },
        "id": "JEjQeIpWyXDC",
        "outputId": "c3f9ed4c-d91a-48ce-e952-8535612ca12c"
      },
      "outputs": [
        {
          "output_type": "stream",
          "name": "stdout",
          "text": [
            "impar\n"
          ]
        }
      ],
      "source": [
        "a = 5\n",
        "par_impar = \"par\" if (a % 2 == 0) else \"impar\"\n",
        "print(par_impar)"
      ]
    },
    {
      "cell_type": "markdown",
      "metadata": {
        "id": "-iPsYVzwyXDC"
      },
      "source": [
        "### while"
      ]
    },
    {
      "cell_type": "code",
      "execution_count": null,
      "metadata": {
        "colab": {
          "base_uri": "https://localhost:8080/"
        },
        "id": "Ud7pMMziyXDC",
        "outputId": "953bb729-e439-47c6-cb2d-a54d74eb1e3d"
      },
      "outputs": [
        {
          "output_type": "stream",
          "name": "stdout",
          "text": [
            "0\n",
            "1\n",
            "2\n",
            "3\n",
            "4\n"
          ]
        }
      ],
      "source": [
        "a = 0\n",
        "while a<5:\n",
        "    print(a)\n",
        "    a += 1"
      ]
    },
    {
      "cell_type": "code",
      "execution_count": null,
      "metadata": {
        "colab": {
          "base_uri": "https://localhost:8080/"
        },
        "id": "xIsv1KabyXDC",
        "outputId": "62df2d18-e666-44d4-e85a-b68c11207717"
      },
      "outputs": [
        {
          "output_type": "stream",
          "name": "stdout",
          "text": [
            "0\n",
            "1\n",
            "2\n",
            "3\n",
            "4\n"
          ]
        }
      ],
      "source": [
        "a = 0\n",
        "while True:\n",
        "    print(a)\n",
        "    a += 1\n",
        "    if a > 4:\n",
        "        break"
      ]
    },
    {
      "cell_type": "code",
      "execution_count": null,
      "metadata": {
        "colab": {
          "base_uri": "https://localhost:8080/"
        },
        "id": "uW8oxlv7yXDD",
        "outputId": "ab2d9c17-6a0a-4186-ce9d-e56827e7fa3a"
      },
      "outputs": [
        {
          "output_type": "stream",
          "name": "stdout",
          "text": [
            "1\n",
            "3\n",
            "5\n"
          ]
        }
      ],
      "source": [
        "a = 0\n",
        "while a<5:\n",
        "    a += 1\n",
        "    if a % 2 == 0:\n",
        "        continue\n",
        "    print(a)"
      ]
    },
    {
      "cell_type": "markdown",
      "metadata": {
        "id": "RyZLdxdpyXDD"
      },
      "source": [
        "### for ... in"
      ]
    },
    {
      "cell_type": "code",
      "execution_count": null,
      "metadata": {
        "id": "N4ysCu09yXDD",
        "outputId": "e3123b76-ac8e-4ff1-d88f-0146ea48a9e3"
      },
      "outputs": [
        {
          "name": "stdout",
          "output_type": "stream",
          "text": [
            "a\n",
            "b\n",
            "c\n",
            "d\n",
            "e\n",
            "f\n"
          ]
        }
      ],
      "source": [
        "seq = ['a', 'b', 'c', 'd', 'e', 'f']\n",
        "for e in seq:\n",
        "    print(e)"
      ]
    },
    {
      "cell_type": "code",
      "execution_count": null,
      "metadata": {
        "colab": {
          "base_uri": "https://localhost:8080/"
        },
        "id": "Pl9VrSzmyXDD",
        "outputId": "97850ac9-d394-40ec-cea3-2b4352361a29"
      },
      "outputs": [
        {
          "output_type": "stream",
          "name": "stdout",
          "text": [
            "0\n",
            "1\n",
            "2\n",
            "3\n",
            "4\n"
          ]
        }
      ],
      "source": [
        "for e in range(5):\n",
        "    print(e)"
      ]
    },
    {
      "cell_type": "code",
      "execution_count": null,
      "metadata": {
        "colab": {
          "base_uri": "https://localhost:8080/"
        },
        "id": "CVb79UxUyXDD",
        "outputId": "e11dc126-d4b8-4cc4-e95b-f6cac33b03b8"
      },
      "outputs": [
        {
          "output_type": "stream",
          "name": "stdout",
          "text": [
            "a 0\n",
            "b 1\n",
            "c 2\n",
            "d 3\n",
            "e 4\n",
            "f 5\n"
          ]
        }
      ],
      "source": [
        "seq1 = ['a', 'b', 'c', 'd', 'e', 'f']\n",
        "seq2 = [0, 1, 2, 3, 4, 5, 6]\n",
        "for e1, e2 in zip(seq1, seq2):\n",
        "    print(e1, e2)"
      ]
    },
    {
      "cell_type": "code",
      "execution_count": null,
      "metadata": {
        "colab": {
          "base_uri": "https://localhost:8080/"
        },
        "id": "92qCg1DFyXDE",
        "outputId": "a96f7221-aa23-46ec-d49f-e570a6dddb1e"
      },
      "outputs": [
        {
          "output_type": "stream",
          "name": "stdout",
          "text": [
            "0 a\n",
            "1 b\n",
            "2 c\n",
            "3 d\n",
            "4 e\n",
            "5 f\n"
          ]
        }
      ],
      "source": [
        "seq1 = ['a', 'b', 'c', 'd', 'e', 'f']\n",
        "for e1, e2 in zip(range(len(seq1)), seq1):\n",
        "    print(e1, e2)"
      ]
    },
    {
      "cell_type": "code",
      "execution_count": null,
      "metadata": {
        "colab": {
          "base_uri": "https://localhost:8080/"
        },
        "id": "zc0U6IN0yXDE",
        "outputId": "87a5b2e7-2f07-4e94-c90f-c3ecff469820"
      },
      "outputs": [
        {
          "output_type": "stream",
          "name": "stdout",
          "text": [
            "0 a\n",
            "1 b\n",
            "2 c\n",
            "3 d\n",
            "4 e\n",
            "5 f\n"
          ]
        }
      ],
      "source": [
        "seq1 = ['a', 'b', 'c', 'd', 'e', 'f']\n",
        "for e1, e2 in enumerate(seq1):\n",
        "    print(e1, e2)"
      ]
    },
    {
      "cell_type": "code",
      "source": [
        "[i+\"b\" for i in seq1 if i != \"a\"]"
      ],
      "metadata": {
        "colab": {
          "base_uri": "https://localhost:8080/"
        },
        "id": "oCuXWNIe04Td",
        "outputId": "28dd5fd8-c7b9-4b0a-d71e-a28613c195c7"
      },
      "execution_count": null,
      "outputs": [
        {
          "output_type": "execute_result",
          "data": {
            "text/plain": [
              "['bb', 'cb', 'db', 'eb', 'fb']"
            ]
          },
          "metadata": {},
          "execution_count": 32
        }
      ]
    },
    {
      "cell_type": "markdown",
      "metadata": {
        "id": "YGXjGovkyXDE"
      },
      "source": [
        "-----------------\n",
        "\n",
        "## <span style=\"color:orange\">Ejercicios</spam>\n",
        "\n",
        "<code>lista = [5, 6, 2, 8, 9, 8, 4, 3, 11, 3, 5, 3, 12]</code>\n",
        "\n",
        "- Hallar la media de los valores de la lista.\n",
        "- Crear una lista solo con los valores mayores que 5.\n",
        "- Invertir la lista.\n",
        "- Ordenar la lista de menor a mayor.\n",
        "- Crear un diccionario donde su clave (key) sea el propio valor y su valor (value) sea su cuadrado.\n",
        "\n",
        "-----------------"
      ]
    },
    {
      "cell_type": "markdown",
      "metadata": {
        "id": "p4GN-BTVyXDE"
      },
      "source": [
        "## Funciones"
      ]
    },
    {
      "cell_type": "code",
      "execution_count": null,
      "metadata": {
        "colab": {
          "base_uri": "https://localhost:8080/"
        },
        "id": "_mhcOPwMyXDE",
        "outputId": "33e54010-125c-47ce-dad2-3993dfa548e1"
      },
      "outputs": [
        {
          "output_type": "stream",
          "name": "stdout",
          "text": [
            "8\n"
          ]
        }
      ],
      "source": [
        "def suma(x, y):\n",
        "    return x+y\n",
        "\n",
        "r = suma(3, 5)\n",
        "print(r)"
      ]
    },
    {
      "cell_type": "code",
      "execution_count": null,
      "metadata": {
        "colab": {
          "base_uri": "https://localhost:8080/"
        },
        "id": "daZLf0KwyXDF",
        "outputId": "9334f59e-b1e6-4894-dc36-1b4c57de00df"
      },
      "outputs": [
        {
          "output_type": "stream",
          "name": "stdout",
          "text": [
            "(7, -1)\n"
          ]
        }
      ],
      "source": [
        "def suma_y_resta(x, y):\n",
        "    return x+y, x-y\n",
        "\n",
        "print(suma_y_resta(3, 4))"
      ]
    },
    {
      "cell_type": "code",
      "execution_count": null,
      "metadata": {
        "id": "ZrBedl-XyXDF",
        "outputId": "6a13e0ba-cc41-49b4-e665-35a1e5a49696"
      },
      "outputs": [
        {
          "name": "stdout",
          "output_type": "stream",
          "text": [
            "6\n",
            "0\n"
          ]
        }
      ],
      "source": [
        "def suma1(*x):\n",
        "    aux = 0\n",
        "    for i in x:\n",
        "        aux += i\n",
        "    return aux\n",
        "\n",
        "def suma2(*x):\n",
        "    return sum(x)\n",
        "\n",
        "print(suma1(1,2,3))\n",
        "print(suma2(1,2,3))"
      ]
    },
    {
      "cell_type": "code",
      "execution_count": null,
      "metadata": {
        "id": "kqn6xq1nyXDF",
        "outputId": "4a043842-739e-4387-ff1a-f24470ad1243"
      },
      "outputs": [
        {
          "name": "stdout",
          "output_type": "stream",
          "text": [
            "formal arg: 1\n",
            "{'myarg2': 'two', 'myarg3': 3}\n",
            "another keyword arg: myarg2: two\n",
            "another keyword arg: myarg3: 3\n"
          ]
        }
      ],
      "source": [
        "def test_var_kwargs(farg, **kwargs):\n",
        "    print(\"formal arg:\", farg)\n",
        "    print(kwargs)\n",
        "    for key in kwargs:\n",
        "        print(\"another keyword arg: %s: %s\" % (key, kwargs[key]))\n",
        "\n",
        "test_var_kwargs(farg=1, myarg2=\"two\", myarg3=3)"
      ]
    },
    {
      "cell_type": "code",
      "execution_count": null,
      "metadata": {
        "id": "sJEFsffZyXDF",
        "outputId": "8f585e1f-0142-4b93-8f54-aecbdf9f88f4"
      },
      "outputs": [
        {
          "name": "stdout",
          "output_type": "stream",
          "text": [
            "arg1: 1\n",
            "arg2: two\n",
            "arg3: 3\n"
          ]
        }
      ],
      "source": [
        "def test_var_args_call(arg1, arg2, arg3):\n",
        "    print(\"arg1:\", arg1)\n",
        "    print(\"arg2:\", arg2)\n",
        "    print(\"arg3:\", arg3)\n",
        "\n",
        "kwargs = {\"arg3\": 3, \"arg2\": \"two\"}\n",
        "test_var_args_call(1, **kwargs)"
      ]
    },
    {
      "cell_type": "markdown",
      "metadata": {
        "id": "8fMHy6t5yXDG"
      },
      "source": [
        "-----------------\n",
        "\n",
        "## <span style=\"color:orange\">Ejercicios</spam>\n",
        "\n",
        "\n",
        "- Crear una función que devuelva **True** si un número es par y **False** en caso contrario.\n",
        "- Crear una función que devuelva el número de elementos que tiene una lista dada como parámetro de entrada.\n",
        "- Crear una función factorial.\n",
        "- Crear una función factorial de forma recursiva.\n",
        "\n",
        "-----------------"
      ]
    },
    {
      "cell_type": "markdown",
      "metadata": {
        "id": "K8Y5K9PWyXDG"
      },
      "source": [
        "## Scopes and Namespaces Example"
      ]
    },
    {
      "cell_type": "code",
      "execution_count": null,
      "metadata": {
        "collapsed": true,
        "id": "AseUW4ggyXDG"
      },
      "outputs": [],
      "source": [
        "spam=\"Fuera\"\n",
        "print(id(spam))\n",
        "\n",
        "def scope_test():\n",
        "    def do_local():\n",
        "        spam = \"local spam\"\n",
        "\n",
        "    def do_nonlocal():\n",
        "        # spam='another local spam'\n",
        "        nonlocal spam\n",
        "        print(id(spam))\n",
        "        spam = \"nonlocal spam\"\n",
        "\n",
        "    def do_global():\n",
        "        global spam\n",
        "        print(id(spam))\n",
        "        #spam = \"global spam\"\n",
        "\n",
        "    spam = \"test spam\"\n",
        "    print(id(spam))\n",
        "    do_local()\n",
        "    print(\"After local assignment:\", spam)\n",
        "    do_nonlocal()\n",
        "    print(\"After nonlocal assignment:\", spam)\n",
        "    do_global()\n",
        "    print(\"After global assignment:\", spam)\n",
        "\n",
        "scope_test()\n",
        "print(\"In global scope:\", spam)"
      ]
    },
    {
      "cell_type": "markdown",
      "metadata": {
        "id": "XbwgmZK0yXDG"
      },
      "source": [
        "## Clases\n",
        "https://docs.python.org/3.6/tutorial/classes.html"
      ]
    },
    {
      "cell_type": "code",
      "execution_count": null,
      "metadata": {
        "id": "TNJjgK2eyXDG",
        "outputId": "e43ce0cf-28a1-4a8e-e57d-fedc474e77f7"
      },
      "outputs": [
        {
          "name": "stdout",
          "output_type": "stream",
          "text": [
            "ITV: [2010]\n",
            "ITV: [2010, 2012]\n",
            "Año de fabricación: 2010\n",
            "ITV: [2013]\n",
            "5\n",
            "5\n",
            "4305328704\n",
            "4305328704\n"
          ]
        }
      ],
      "source": [
        "class Vehicle:\n",
        "    \n",
        "    CO = 5  # Static variable\n",
        "    \n",
        "    def __init__(self, license_plate, year):\n",
        "        self.license_plate = license_plate\n",
        "        self.year = year\n",
        "        self.itv = []\n",
        "\n",
        "    def ITV(self, year):\n",
        "        self.itv.append(year)\n",
        "        print(\"ITV:\", self.itv)\n",
        "        \n",
        "        \n",
        "c1 = Vehicle(\"FCR3456\", 2010)\n",
        "c1.ITV(2010)\n",
        "c1.ITV(2012)\n",
        "print(\"Año de fabricación:\", c1.year)\n",
        "\n",
        "c2 = Vehicle(\"GDK3988\", 2011)\n",
        "c2.ITV(2013)\n",
        "\n",
        "print(c1.CO)\n",
        "print(c2.CO)\n",
        "Vehicle.CO = 7\n",
        "print(id(c1.CO))\n",
        "print(id(c2.CO))"
      ]
    },
    {
      "cell_type": "markdown",
      "metadata": {
        "id": "ViwtA9tvyXDH"
      },
      "source": [
        "### Herencia"
      ]
    },
    {
      "cell_type": "code",
      "execution_count": null,
      "metadata": {
        "collapsed": true,
        "id": "qHhqtJtsyXDH"
      },
      "outputs": [],
      "source": [
        "class Instrumento:\n",
        "    \n",
        "    def __init__(self, precio):\n",
        "        self.precio = precio\n",
        "\n",
        "    def tocar(self):\n",
        "        print(\"Estamos tocando música\")\n",
        "        \n",
        "    def romper(self):\n",
        "        print(\"Eso lo pagas tú\")\n",
        "        print(\"Son\", self.precio, \"$$$\")\n",
        "\n",
        "class Bateria(Instrumento):\n",
        "    pass\n",
        "\n",
        "class Guitarra(Instrumento):\n",
        "    pass"
      ]
    },
    {
      "cell_type": "markdown",
      "metadata": {
        "id": "GyMEttvOyXDH"
      },
      "source": [
        "### Métodos especiales"
      ]
    },
    {
      "cell_type": "code",
      "execution_count": null,
      "metadata": {
        "id": "wbo8LlQUyXDI",
        "outputId": "f25263ea-dad0-4a62-beb9-6e8644dd4f61"
      },
      "outputs": [
        {
          "name": "stdout",
          "output_type": "stream",
          "text": [
            "Menor\n",
            "Menor\n",
            "Igual\n",
            "GDY3403\n"
          ]
        }
      ],
      "source": [
        "class Vehicle:\n",
        "    \n",
        "    CO = 5  # Static variable\n",
        "    \n",
        "    def __init__(self, license_plate, year):\n",
        "        self.license_plate = license_plate\n",
        "        self.year = year\n",
        "        self.itv = []\n",
        "\n",
        "    def ITV(self, year):\n",
        "        self.itv.append(year)\n",
        "        print(\"ITV:\", self.itv)\n",
        "        \n",
        "    def __str__(self):\n",
        "        return self.license_plate\n",
        "\n",
        "    def __eq__(self, other):\n",
        "        return self.year == other.year\n",
        "\n",
        "    def __ne__(self, other):\n",
        "        return self.year != other.year\n",
        "\n",
        "    def __lt__(self, other):\n",
        "        return self.year < other.year\n",
        "\n",
        "    def __le__(self, other):\n",
        "        return self.year <= other.year\n",
        "\n",
        "    def __gt__(self, other):\n",
        "        return self.year > other.year\n",
        "\n",
        "    def __ge__(self, other):\n",
        "        return self.year >= other.year\n",
        "    \n",
        "# __new__(cls, args)\n",
        "# __del__(self)\n",
        "# __len__(self)\n",
        "\n",
        "c1 = Vehicle(\"GDY3403\", 2009)\n",
        "c2 = Vehicle(\"FGB9903\", 2011)\n",
        "c3 = Vehicle(\"FHF9903\", 2011)\n",
        "\n",
        "if c1 < c2:\n",
        "    print(\"Menor\")\n",
        "\n",
        "if c3 > c1:\n",
        "    print(\"Menor\")\n",
        "\n",
        "if c2 == c1:\n",
        "    print(\"Igual\")\n",
        "\n",
        "if c2 == c3:\n",
        "    print(\"Igual\")\n",
        "    \n",
        "print(c1)"
      ]
    },
    {
      "cell_type": "markdown",
      "metadata": {
        "id": "jC4yMzxayXDI"
      },
      "source": [
        "-----------------\n",
        "\n",
        "## <span style=\"color:orange\">Ejercicios</span>\n",
        "\n",
        "\n",
        "- Define una clase para instanciar modelos de televisión. Introduce propiedades como: pulgadas, precio, tecnología...\n",
        "\n",
        "-----------------"
      ]
    },
    {
      "cell_type": "markdown",
      "metadata": {
        "id": "lv-h_-QXyXDJ"
      },
      "source": [
        "## Programación funcional"
      ]
    },
    {
      "cell_type": "markdown",
      "metadata": {
        "id": "QGZcRIrHyXDJ"
      },
      "source": [
        "### Funciones de orden superior"
      ]
    },
    {
      "cell_type": "code",
      "execution_count": null,
      "metadata": {
        "id": "QpV_dX_uyXDJ",
        "outputId": "f043f989-c0c0-43d6-a05e-38fde5cb6cb5"
      },
      "outputs": [
        {
          "name": "stdout",
          "output_type": "stream",
          "text": [
            "Hola\n"
          ]
        }
      ],
      "source": [
        "def saludar(lang):\n",
        "    def saludar_es():\n",
        "        print(\"Hola\")\n",
        "\n",
        "    def saludar_en():\n",
        "        print(\"Hi\")\n",
        "\n",
        "    def saludar_fr():\n",
        "        print(\"Salut\")\n",
        "\n",
        "    lang_func = {\"es\": saludar_es,\n",
        "        \"en\": saludar_en,\n",
        "        \"fr\": saludar_fr}\n",
        "\n",
        "    return lang_func[lang]\n",
        "\n",
        "f = saludar(\"es\")\n",
        "f()"
      ]
    },
    {
      "cell_type": "markdown",
      "metadata": {
        "id": "MLjtHhsdyXDJ"
      },
      "source": [
        "### map(function, iterable, ...)"
      ]
    },
    {
      "cell_type": "code",
      "execution_count": null,
      "metadata": {
        "id": "IRMh8iieyXDJ",
        "outputId": "3e57b76b-266e-4e62-d6ac-80fb2e69fdab"
      },
      "outputs": [
        {
          "name": "stdout",
          "output_type": "stream",
          "text": [
            "1\n",
            "4\n",
            "9\n",
            "16\n",
            "25\n",
            "36\n",
            "49\n",
            "64\n"
          ]
        }
      ],
      "source": [
        "def cuadrado(x):\n",
        "    return x*x\n",
        "\n",
        "l = [1, 2, 3, 4, 5, 6, 7, 8]\n",
        "l2 = map(cuadrado, l)\n",
        "\n",
        "for i in l2:\n",
        "    print(i)"
      ]
    },
    {
      "cell_type": "markdown",
      "metadata": {
        "id": "lKRfFCQHyXDK"
      },
      "source": [
        "### filter(function, iterable)"
      ]
    },
    {
      "cell_type": "code",
      "execution_count": null,
      "metadata": {
        "id": "LHYGfXHSyXDK",
        "outputId": "e2b10b74-cc51-4a22-b24b-be836bf6ce07"
      },
      "outputs": [
        {
          "name": "stdout",
          "output_type": "stream",
          "text": [
            "2\n",
            "4\n",
            "6\n",
            "8\n"
          ]
        }
      ],
      "source": [
        "def par(x):\n",
        "    return x % 2 == 0\n",
        "\n",
        "l = [1, 2, 3, 4, 5, 6, 7, 8]\n",
        "lpar = filter(par, l)\n",
        "\n",
        "for i in lpar:\n",
        "    print(i)"
      ]
    },
    {
      "cell_type": "markdown",
      "metadata": {
        "id": "zamyV0QTyXDK"
      },
      "source": [
        "### Funciones lambda"
      ]
    },
    {
      "cell_type": "code",
      "execution_count": null,
      "metadata": {
        "id": "M6z5qaLsyXDK",
        "outputId": "9a385c85-9e38-4caf-9580-436b21b8f72e"
      },
      "outputs": [
        {
          "name": "stdout",
          "output_type": "stream",
          "text": [
            "7\n"
          ]
        }
      ],
      "source": [
        "sum = lambda x, y : x + y\n",
        "\n",
        "print(sum(3, 4))"
      ]
    },
    {
      "cell_type": "markdown",
      "metadata": {
        "id": "3PQTtdsXyXDK"
      },
      "source": [
        "### Ordenación de listas"
      ]
    },
    {
      "cell_type": "code",
      "execution_count": null,
      "metadata": {
        "id": "bRj3Zy1pyXDL",
        "outputId": "fb30c02b-11f8-48a1-9bcf-c79318183d84"
      },
      "outputs": [
        {
          "name": "stdout",
          "output_type": "stream",
          "text": [
            "[1, 2, 3, 4, 5, 5, 7, 9]\n"
          ]
        }
      ],
      "source": [
        "l = [2, 5, 7, 3, 1, 9, 5, 4]\n",
        "\n",
        "lo = sorted(l)\n",
        "print(lo)"
      ]
    },
    {
      "cell_type": "markdown",
      "metadata": {
        "id": "YXK5Atu8yXDL"
      },
      "source": [
        "-----------------\n",
        "\n",
        "## <span style=\"color:orange\">Ejercicios</span>\n",
        "\n",
        "\n",
        "- Ordenar la lista de TVs anterior por precio\n",
        "- Ordenar la lista de TVs anterior por pulgadas\n",
        "- Aplicar un 15% de descuento a todas las TVs de la lista\n",
        "- Aplicar un 20% de descuento solo a las TVs de más de 45''\n",
        "\n",
        "\n",
        "-----------------"
      ]
    },
    {
      "cell_type": "markdown",
      "metadata": {
        "id": "bHIKUNEoyXDL"
      },
      "source": [
        "## Comprensión de listas"
      ]
    },
    {
      "cell_type": "code",
      "execution_count": null,
      "metadata": {
        "id": "b-Sy1VBHyXDL",
        "outputId": "f070f50d-f112-4e5d-8a01-4bcec2368a5e"
      },
      "outputs": [
        {
          "name": "stdout",
          "output_type": "stream",
          "text": [
            "[1, 4, 9, 16, 25, 36, 49, 64]\n"
          ]
        }
      ],
      "source": [
        "l = [1, 2, 3, 4, 5, 6, 7, 8]\n",
        "\n",
        "l2 = [i**2 for i in l]\n",
        "print(l2)"
      ]
    },
    {
      "cell_type": "code",
      "execution_count": null,
      "metadata": {
        "id": "jiZvbfRwyXDM",
        "outputId": "26f8bb85-4790-443f-a019-d8915cc10e0d"
      },
      "outputs": [
        {
          "name": "stdout",
          "output_type": "stream",
          "text": [
            "[4, 16, 36, 64]\n"
          ]
        }
      ],
      "source": [
        "l = [1, 2, 3, 4, 5, 6, 7, 8]\n",
        "\n",
        "l2 = [i**2 for i in l if i%2==0]\n",
        "print(l2)"
      ]
    },
    {
      "cell_type": "code",
      "execution_count": null,
      "metadata": {
        "id": "--CjjETnyXDM",
        "outputId": "99ef407a-933e-4272-d923-8b6e92d49edb"
      },
      "outputs": [
        {
          "name": "stdout",
          "output_type": "stream",
          "text": [
            "[4, 16, 36, 64]\n"
          ]
        }
      ],
      "source": [
        "def par(x):\n",
        "    return x % 2 == 0\n",
        "\n",
        "l = [1, 2, 3, 4, 5, 6, 7, 8]\n",
        "lpar = filter(par, l)\n",
        "\n",
        "l2 = [i**2 for i in lpar]\n",
        "print(l2)"
      ]
    },
    {
      "cell_type": "markdown",
      "metadata": {
        "id": "TVMDrygAyXDM"
      },
      "source": [
        "### Generadores"
      ]
    },
    {
      "cell_type": "code",
      "execution_count": null,
      "metadata": {
        "id": "zrmpli-5yXDM",
        "outputId": "b48191a4-24c8-46a9-f965-ecba85c26d1a"
      },
      "outputs": [
        {
          "name": "stdout",
          "output_type": "stream",
          "text": [
            "<generator object <genexpr> at 0x106704620>\n"
          ]
        }
      ],
      "source": [
        "l3 = ((i, j) for i in zip(l, l2))\n",
        "print(l3)"
      ]
    },
    {
      "cell_type": "code",
      "execution_count": null,
      "metadata": {
        "collapsed": true,
        "id": "fRBznvjryXDN"
      },
      "outputs": [],
      "source": [
        "def reverse(data):\n",
        "    for index in range(len(data)-1, -1, -1):\n",
        "        yield data[index]\n",
        "                \n",
        "for char in reverse('Dábale arroz a la zorra el abad'):\n",
        "    print(char)"
      ]
    },
    {
      "cell_type": "markdown",
      "metadata": {
        "id": "0is6mNegyXDN"
      },
      "source": [
        "-----------------\n",
        "\n",
        "## <span style=\"color:orange\">Ejercicios</span>\n",
        "\n",
        "<code>lista = [5, 6, 2, 8, 9, 8, 4, 3, 11, 3, 5, 3, 12]</code>\n",
        "\n",
        "- Crear un generador que devuelva los múltiplos de 3 de la lista.\n",
        "- Crear una nueva lista (mediante comprensión de listas) con los múltiplos de 3 de la lista.\n",
        "\n",
        "\n",
        "-----------------"
      ]
    },
    {
      "cell_type": "markdown",
      "metadata": {
        "id": "0stqrNEgyXDN"
      },
      "source": [
        "## Decoradores"
      ]
    },
    {
      "cell_type": "code",
      "execution_count": null,
      "metadata": {
        "id": "sXcc7iT0yXDN",
        "outputId": "61110b80-1bd1-4b51-923e-3377164afe20"
      },
      "outputs": [
        {
          "name": "stdout",
          "output_type": "stream",
          "text": [
            "Suma: 1+2+3+4=10\n"
          ]
        },
        {
          "data": {
            "text/plain": [
              "10"
            ]
          },
          "execution_count": 180,
          "metadata": {},
          "output_type": "execute_result"
        }
      ],
      "source": [
        "# del(sum) # Ojo! Hay que borrarla pq la tenemos redefinida arriba\n",
        "\n",
        "def decora(func):\n",
        "    def retorna(*args):\n",
        "        resultado = func(*args)\n",
        "        s = \"\"\n",
        "        for x in args[:-1]:\n",
        "            s += str(x)+\"+\"\n",
        "        s += str(args[-1]) + \"=\"\n",
        "        print(\"Suma: \" + s + str(resultado))\n",
        "        return resultado\n",
        "    return retorna\n",
        "\n",
        "@decora\n",
        "def suma(*args):\n",
        "    return sum(args)\n",
        "    \n",
        "suma(1, 2, 3, 4)\n",
        "# decora(suma)(1, 2, 3, 4)"
      ]
    },
    {
      "cell_type": "markdown",
      "metadata": {
        "id": "Y3YtBNu7yXDN"
      },
      "source": [
        "## Patrón de diseño Memoize"
      ]
    },
    {
      "cell_type": "code",
      "execution_count": null,
      "metadata": {
        "collapsed": true,
        "id": "cGjgpuUCyXDO"
      },
      "outputs": [],
      "source": [
        "\n",
        "def memoize(f):\n",
        "    memo = {}\n",
        "    def helper(x):\n",
        "        if x not in memo:\n",
        "            memo[x] = f(x)\n",
        "        return memo[x]\n",
        "    return helper\n",
        "\n",
        "\n",
        "#@memoize\n",
        "def fib(n):\n",
        "    if n == 0:\n",
        "        return 0\n",
        "    elif n == 1:\n",
        "        return 1\n",
        "    else:\n",
        "        return fib(n-1) + fib(n-2)\n",
        "\n",
        "\n",
        "#fib = memoize(fib)\n",
        "#print(fib(40))\n",
        "\n",
        "import time\n",
        "\n",
        "for i in range(1, 39):\n",
        "    t1 = time.time()\n",
        "    print(fib(i))\n",
        "    print(\"Tiempo: \", i, \" -- \", time.time()-t1)"
      ]
    },
    {
      "cell_type": "markdown",
      "metadata": {
        "id": "f0a-FFFHyXDO"
      },
      "source": [
        "## Módulos y paquetes\n",
        "\n",
        "Para la organización de todo nuestro código es necesario crear **módulos**, donde almacenaremos todas las clases y funciones relacionadas. Físicamente, el **módulo** es un fichero donde se encuentra este código.\n",
        "\n",
        "Los módulos los importamos con la palabra **import**"
      ]
    },
    {
      "cell_type": "code",
      "execution_count": null,
      "metadata": {
        "collapsed": true,
        "id": "sl2naXfvyXDO"
      },
      "outputs": [],
      "source": [
        "# Fichero \"mimodulo.py\"\n",
        "\n",
        "def suma(x, y):\n",
        "    return x + y\n",
        "\n",
        "class persona:\n",
        "    def __init__(self, name):\n",
        "        self.name = name\n",
        "        \n",
        "    def imprime(self):\n",
        "        print(self.name)\n",
        "\n",
        "valor = 1234"
      ]
    },
    {
      "cell_type": "code",
      "execution_count": null,
      "metadata": {
        "id": "IDy2FrRXyXDO",
        "outputId": "c6c34500-92ed-4bbc-9778-9eb56e06245f"
      },
      "outputs": [
        {
          "name": "stdout",
          "output_type": "stream",
          "text": [
            "Juan\n",
            "1234\n"
          ]
        }
      ],
      "source": [
        "import mimodulo as mm\n",
        "\n",
        "p1 = mm.persona(\"Juan\")\n",
        "p1.imprime()\n",
        "\n",
        "print(mm.valor)"
      ]
    },
    {
      "cell_type": "markdown",
      "metadata": {
        "id": "Ex6HRhVCyXDO"
      },
      "source": [
        "De la misma forma que organizamos el código en módulos, organizaremos nuestros módulos en **paquetes**. De esta forma, si los módulos son ficheros, ahora los paquetes serán directorios. La forma que tiene Python de hacer que tome un directorio como paquete es incluyendo un fichero de nombre <code>\\__init__.py</code>, el cual puede estar vacío."
      ]
    }
  ],
  "metadata": {
    "kernelspec": {
      "display_name": "Python 3",
      "language": "python",
      "name": "python3"
    },
    "language_info": {
      "codemirror_mode": {
        "name": "ipython",
        "version": 3
      },
      "file_extension": ".py",
      "mimetype": "text/x-python",
      "name": "python",
      "nbconvert_exporter": "python",
      "pygments_lexer": "ipython3",
      "version": "3.7.3"
    },
    "colab": {
      "provenance": []
    }
  },
  "nbformat": 4,
  "nbformat_minor": 0
}